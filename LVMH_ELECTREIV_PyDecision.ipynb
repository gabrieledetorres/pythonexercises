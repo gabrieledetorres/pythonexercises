{
  "nbformat": 4,
  "nbformat_minor": 0,
  "metadata": {
    "colab": {
      "provenance": [],
      "authorship_tag": "ABX9TyNMZFuYi7ogxPVlVAkjNPTA",
      "include_colab_link": true
    },
    "kernelspec": {
      "name": "python3",
      "display_name": "Python 3"
    },
    "language_info": {
      "name": "python"
    }
  },
  "cells": [
    {
      "cell_type": "markdown",
      "metadata": {
        "id": "view-in-github",
        "colab_type": "text"
      },
      "source": [
        "<a href=\"https://colab.research.google.com/github/gabrieledetorres/pythonexercises/blob/main/LVMH_ELECTREIV_PyDecision.ipynb\" target=\"_parent\"><img src=\"https://colab.research.google.com/assets/colab-badge.svg\" alt=\"Open In Colab\"/></a>"
      ]
    },
    {
      "cell_type": "markdown",
      "source": [
        "## Case: Posicionamento de Marca - Grupo LVMH\n",
        "Decisão em grupo após exposição de indústrias chinesas perante o tarifaço.\n",
        "\n",
        "Case desenvolvido por Gabriele dos Santos Torres para a AB2 da disciplina de Análise de Decisão ministrada pelo prof. Victor Diogho Heuer de Carvalho"
      ],
      "metadata": {
        "id": "4aMYBoCCV7OD"
      }
    },
    {
      "cell_type": "markdown",
      "source": [
        "## Estruturação do Problema\n",
        "\n",
        "O método de estruturação (PSM) escolhido para este case é o SSM - Soft System Methodology - Metodologia de Sistemas Soft. \\\n",
        "Foram elaborados os seguintes passos:\n",
        "\n",
        "1. Explorar situação problemática\n",
        "2. Rich Pictures\n",
        "3. Construção da visualização dos dados\n",
        "4. Elaborar modelo\n",
        "5. Avaliar o cenário\n",
        "6. Comparações\n",
        "7. Sugestões"
      ],
      "metadata": {
        "id": "fhMHd4T4W5La"
      }
    },
    {
      "cell_type": "markdown",
      "source": [
        "### Problemática:\n",
        "\n",
        "A indústria de bolsas, roupas e artigos de luxo, [movimentam anualmente £363 bilhões de euros.](https://mercadoeconsumo.com.br/04/03/2025/destaque-do-dia/mercado-de-luxo-movimentou-148-trilhao-de-euros-em-2024/?cn-reloaded=1)\n",
        "\n",
        "Essa movimentação se refere a compra e negociação de itens de moda e outros artigos em que seu **valor agregado** carregam história, status e manutenção de exclusividade para o comportamento de recortes sociais que divergem de cidadãos comuns assalariados.\n",
        "Bolsas, roupas de alta-costura, arte e divulgação são pensadas para ditar tendências, obsolescência e produtividade sob demanda.\n",
        "\n",
        "Essa indústria, carrega o front da tecnologia mesclada com arte feita à mão na produção desses artigos - altamente questionada pelo valor individual das peças.\n",
        "\n",
        "Após o tarifaço atribuído pelo Governo Trump nos Estados Unidos, [fabricantes de bolsas na Ásia revelam através das mídias sociais globais seus custos de produção para as mais diversas marcas](https://www.metropoles.com/colunas/ilca-maria-estevao/chineses-expoem-a-possivel-realidade-por-tras-das-bolsas-de-luxo), incluindo marcas do grupo LVMH e o quanto o consumidor paga apenas pela etiqueta de fabricação em Paris ou na Itália, reproduzida pelas regras de alta costura e artefatos com certa porcentagem de trabalho artesão.\n",
        "\n",
        "Após a suposta exposição destes fabricantes nas redes sociais, as ações do Grupo LVMH caíram consideravelmente, como visto na Figura 01:\n",
        "\n",
        "![Captura de tela 2025-05-06 140933.png](https://i.ibb.co/N2hdCC3s/Captura-de-tela-2025-05-06-140933.png)\n",
        "\n",
        "Figura 01: Ações do Grupo LVMH - Em 06 de maio de 2025\n",
        "\n",
        "\n",
        "O Grupo LVMH representa atualmente as seguintes marcas:\n",
        "\n",
        "![Marcas-LVMH](https://i.ibb.co/yFchsRLz/Captura-de-tela-2025-05-20-173007.png)\n",
        "\n",
        "Portanto, como o grupo se posiciona para os seus *stakeholders* incluindo clientes de forma com que a garantia da exclusividade e da história no valor agregado das suas peças não seja abalado pela exposição de fabricantes de bolsas chineses? **Este tipo de problema está caracterizado como problema de ordenação - o que fazer primeiro, diante de todas as alternativas.**"
      ],
      "metadata": {
        "id": "KTMbmoOUWEcq"
      }
    },
    {
      "cell_type": "markdown",
      "source": [
        "###Rich Picture\n",
        "\n",
        "A Rich Picture abaixo (Figura 02) desenha a cadeia de acontecimentos para gerar o problema e questionamentos a serem feitos pelo Grupo LVMH para pensar seu posicionamento.\n",
        "\n",
        "![Rich Picture](https://iili.io/3L2jinS.md.jpg)\n",
        "\n",
        "Figura 02: Rich Picture do Case LVMH - Fonte: Autora\n",
        "\n",
        "Para prosseguir com a estruturação do problema, os detalhes, conforme o requisito CATWOE do SSM, estão expostos abaixo:\n"
      ],
      "metadata": {
        "id": "pVHTncqy1EMB"
      }
    },
    {
      "cell_type": "markdown",
      "source": [
        "### CATWOE - Definições-chave para a análise do problema\n",
        "\n",
        "**Clientes**: Consumidores das marcas supracitadas, revendedores *second-hand*/mercado de segunda-mão, investidores na indústria de luxo\n",
        "\n",
        "**Atores**: Times de estratégia e *supply chain* da LVMH\n",
        "\n",
        "\n",
        "\n",
        "> Facilitadores: \\\n",
        "Cecile Cabanis: CFO \\\n",
        "Michael Burke: Fashion (responsável)\\\n",
        "Ivar Quarante: CFO, Fashion Group \\\n",
        "Stéphane Rinderknech: Hospitality, Excellence & Beauty Division \\\n",
        "Stéphane Bianchi: Watches & Jewelry (consulta) \\\n",
        "Vincent Belrose: CTO \\\n",
        "Maud Alvarez-Pereyre: RH \\\n",
        "Jean-Charles Trehan: Relações Externas \\\n",
        "Franck Le Moal: CIO (informações) \\\n",
        "Olivier Théophile: Live & Social Responsibility \\\n",
        "Jean-Baptiste Voisin: Strategy & Métiers d'Art \\\n",
        "\n",
        "\n",
        "\n",
        "\n",
        "\n",
        "**Transformações**: Mudanças de posicionamento, ajuste de estratégia e transparência, controle da cadeia de suprimentos\n",
        "\n",
        "***Worldview***/**Visão de mundo**: O Grupo LVMH representa para além de movimentação na economia, a visão artística e propagadora de tendências e hábitos de consumo.\n",
        "\n",
        "***Owner***/**Proprietário**: Família Arnault, em especial o presidente e CEO da LVMH, Bernard Arnault.\n",
        "\n",
        "\n",
        "\n",
        "> Bernard Arnault: Presidente e CEO da LVMH, com grande influência na estratégia geral da empresa. \\\n",
        "Delphine Arnault: Diretora executiva da Christian Dior Couture e membro do comitê executivo da LVMH. \\\n",
        "Antoine Arnault: Presidente da Berluti, responsável pela imagem e política ambiental da LVMH, além de CEO e vice-presidente do conselho de administração da holding Christian Dior SE. \\\n",
        "Alexandre Arnault: Diretor executivo da Tiffany & Co. \\\n",
        "Frederic Arnault: Diretor executivo da Moët Hennessy \\\n",
        "Jean Arnault: Diretor de relógios da Louis Vuitton\n",
        "\n",
        "\n",
        "\n",
        "***Environment***/**Ambiente**: Restrições externas: para além das regras de transparência contidas nos princípios da LVMH, temos também o que os torna produtos do grupo, parte da categoria de luxo e alta costura.\n",
        "\n",
        "*A classificação **Haute Couture** para desfiles da Semana de Moda:*\n",
        "\n",
        " 1. Confeccionar à mão e sob medida roupas para clientes particulares, que devem passar por no mínimo uma prova.\n",
        " 2. Cada peça deve ser única e elaborada em um ateliê composto por ao menos 20 artesãos trabalhando em tempo integral.\n",
        " 3. O ateliê deve estar sediado na França e a maison deve apresentar, a cada temporada, uma coleção com 50 modelos originais.\n",
        "\n",
        " Os desfiles de verão acontecem em janeiro\n",
        "\n",
        " Desfiles de inverno acontecem em julho.\n",
        "\n",
        "Existem membros correspondentes - recebem autorização para participarem do evento por terem compromissos e táticas similares às da *maisons* integrantes.\n",
        "\n",
        "Exemplos:\n",
        "A italiana *Giorgio Armani Privé*  e a libanesa *Ellie Saab.*\n",
        "\n",
        "Anualmente as marcas são renovadas e entram em saem da classificação Haute Couture, porém o valor agregado para peças produzidas na França e Itália constituem a categoria de Produtos de Luxo.\n",
        "\n",
        "\n",
        "> Do Grupo LVMH as principais marcas representantes na classificação *Haute Couture* anualmente são a **Christian Dior e a Givenchy**.\n",
        "\n",
        "\n",
        "\n"
      ],
      "metadata": {
        "id": "ny2xaAWZdNJ5"
      }
    },
    {
      "cell_type": "markdown",
      "source": [
        "### Construção do modelo de análise\n",
        "\n",
        "Critérios (Prioridades do LVMH)\n",
        "\n",
        "**Critério 01**: Manter exclusividade dos produtos e bens de luxo fornecidos pelo grupo \\\n",
        "A exclusividade é o motor do desejo no luxo. Se o público acreditar que pode obter \"o mesmo\" por muito menos, o valor percebido das marcas LVMH desmorona.\n",
        "\n",
        "**Critério 02**: Esclarecimento global sobre fornecimento e ligações com a Ásia \\\n",
        "A transparência é fundamental para combater a desinformação. O LVMH precisa comunicar claramente sua cadeia de suprimentos sem que isso comprometa a percepção de \"made in France\" ou \"made in Italy\".\n",
        "\n",
        "**Critério 03**: Fidelidade dos clientes \\\n",
        "Clientes de luxo são altamente sensíveis à reputação e autenticidade. Manter a fidelidade exige restaurar a confiança e reafirmar o valor inerente das marcas.\n",
        "\n",
        "**Critério 04**: Manter ticket médio atual dos produtos \\\n",
        "A queda no ticket médio seria um desastre financeiro. O posicionamento deve justificar os preços atuais, reforçando o valor.\n",
        "\n",
        "**Critério 05**: Manter padrões de alta-costura \\\n",
        "Qualidade e artesanato são a base da alta costura. Se as alegações chinesas sugerem que a qualidade é a mesma, isso ataca diretamente a integridade dos padrões do LVMH.\n",
        "\n",
        "\\\n",
        "\n",
        "---\n",
        "\n",
        "\n",
        "\\\n",
        "\n",
        "**Alternativas propostas**\n",
        "\n",
        "**Alternativa 01**: Pronunciamento público \\\n",
        "Um comunicado claro e enfático é o primeiro passo para controlar a narrativa. Deve ser estratégico, sem validar as acusações, mas reafirmando a autenticidade.\n",
        "\n",
        "**Alternativa 02**: Tomada de Decisão para manter fidelidade dos consumidores do mercado de luxo \\\n",
        "Isso se traduz em ações concretas que reforçam a relação com o cliente, como experiências exclusivas, comunicação personalizada e programas de fidelidade aprimorados.\n",
        "\n",
        "**Alternativa 03**: Revisão da estratégia de posicionamento da marca para manter o objetivo de exclusividade \\\n",
        "O LVMH precisará reforçar a narrativa de seu valor, talvez com foco ainda maior na herança, no artesanato, na inovação e na experiência única de possuir um produto de luxo.\n",
        "\n",
        "**Alternativa 04**: Controle financeiro e gestão de crise \\\n",
        "Embora não seja uma ação de \"posicionamento\", é uma estrutura de suporte vital. A gestão de crise coordenará todas as outras ações, monitorando o impacto financeiro e de reputação.\n",
        "\n",
        "**Alternativa 05**: Posicionamento em relação às tarifas internacionais \\\n",
        " A cadeia de suprimentos e os custos de produção globais podem ser um ponto de defesa em relação à origem dos produtos.\n",
        "\n",
        "**Alternativa 06**: Publicização de fornecedores legítimos \\\n",
        " A publicização deve ser estratégica, talvez focando em fornecedores-chave que exemplifiquem a autenticidade e o artesanato europeu."
      ],
      "metadata": {
        "id": "rvZDkTNy6TKQ"
      }
    },
    {
      "cell_type": "markdown",
      "source": [
        "### Atribuição de valores\n",
        "\n",
        "Para atribuir valores aos critérios pensamos na escala de pontuação:\n",
        "\n",
        "1 - Muito Baixo / Pouco Impacto: A alternativa tem um impacto muito pequeno ou negativo no critério. \\\n",
        "2 - Baixo Impacto: A alternativa tem um impacto limitado no critério. \\\n",
        "3 - Médio Impacto: A alternativa tem um impacto moderado no critério. \\\n",
        "4 - Alto Impacto: A alternativa tem um impacto significativo no critério. \\\n",
        "5 - Muito Alto / Essencial: A alternativa é crucial ou tem um impacto extremamente positivo no critério. \\\n",
        "\n",
        "Escolheu-se o método Electre IV pelos critérios não serem sobressalentes entre si mesmos, pois cada prioridade definida pela indústria de luxo é crucial para a manutenção de uma estrutura que reverbera para além de seus consumidores.\n",
        "\n",
        "Desta forma, o método Electre IV, não possui atribuição de peso para seus critérios, facilitando a visualização da análise de decisões complexas como esta.\n",
        "\n",
        "Definição dos Limiares (Q, P, V) por Critério\n",
        "\n",
        "Escala de Avaliação: 1 (Muito Baixo Impacto) a 5 (Muito Alto Impacto).\n",
        "Amplitude da Escala: 5−1=4 pontos. \\\n",
        "\n",
        "Com auxílio do Gemini, foi gerada a seguinte tabela (clique na imagem para visualizar com qualidade):\n",
        "\n",
        "<a href=\"https://freeimage.host/i/3Lf1hDN\"><img src=\"https://iili.io/3Lf1hDN.md.png\" alt=\"3Lf1hDN.md.png\" border=\"0\"></a>\n",
        "\n",
        "\\\n",
        "\n",
        "Para além disso, atribuímos para cada alternativa sua correlação com os critérios: \\\n",
        "\n",
        "Alternativa 01: Pronunciamento Público \\\n",
        "\n",
        "C1 (Exclusividade): Um bom pronunciamento pode reafirmar, mas não resolve intrinsecamente a percepção de exclusividade (3). \\\n",
        "C2 (Esclarecimento de Fornecimento): É a principal ferramenta para esclarecer a cadeia de suprimentos (5). \\\n",
        "C3 (Fidelidade de Clientes): Depende do tom; pode tranquilizar, mas não é uma ação direta de fidelização (3). \\\n",
        "C4 (Ticket Médio): Afeta a confiança, que indiretamente pode sustentar o ticket, mas não é seu foco (3). \\\n",
        "C5 (Alta-Costura): Pode reafirmar a qualidade e os padrões (3). \\\n",
        "\n",
        "\\\n",
        "\n",
        "Alternativa 02: Tomada de Decisão para Fidelidade\n",
        "\n",
        "C1 (Exclusividade): Ações que valorizam o cliente e a experiência reforçam a exclusividade percebida (4). \\\n",
        "C2 (Esclarecimento de Fornecimento): O foco não é o fornecimento, mas sim a relação com o cliente (2). \\\n",
        "C3 (Fidelidade  de Clientes): Direcionada a manter e fortalecer a base de clientes (5). \\\n",
        "C4 (Ticket Médio): Clientes fiéis mantêm a demanda por produtos de alto valor (4). \\\n",
        "C5 (Alta-Costura): Experiências de luxo e atendimento reforçam a percepção de um produto de alta qualidade (3). \\\n",
        "\n",
        "\\\n",
        "\n",
        "Alternativa 03: Revisão da Estratégia de Posicionamento\n",
        "\n",
        "C1 (Exclusividade): É a ação mais direta para redefinir e reforçar a exclusividade da marca (5). \\\n",
        "C2 (Esclarecimento de  Fornecimento): Uma nova estratégia pode incluir elementos de transparência (3). \\\n",
        "C3 (Fidelidade de Clientes): Um posicionamento claro e coerente inspira confiança e reforça a lealdade (4). \\\n",
        "C4 (Ticket Médio): Justifica o valor percebido e, portanto, o preço dos produtos (5). \\\n",
        "C5 (Alta-Costura): A nova estratégia pode enfatizar o artesanato, design e padrões de qualidade (4). \\\n",
        "\n",
        "\\\n",
        "\n",
        "Alternativa 04: Controle Financeiro e Gestão de Crise\n",
        "\n",
        "C1 (Exclusividade): Ações internas; não impacta diretamente a percepção externa de exclusividade (2). \\\n",
        "C2 (Esclarecimento de Fornecimento): Foco interno, sem impacto direto na comunicação de fornecimento (2). \\\n",
        "C3 (Fidelidade de Clientes): A estabilidade da empresa e a capacidade de gerir crises podem indiretamente transmitir confiança aos clientes (3). \\\n",
        "C4 (Ticket Médio): Essencial para mitigar perdas e garantir a sustentabilidade dos preços (5). \\\n",
        "C5 (Alta-Costura): Não está diretamente relacionada aos padrões de produção (2).\n",
        "\n",
        "\\\n",
        "\n",
        "Alternativa 05: Posicionamento sobre Tarifas Internacionais\n",
        "\n",
        "C1 (Exclusividade): Foco em custos e política, não na percepção de luxo (1). \\\n",
        "C2 (Esclarecimento de Fornecimento): Pode estar ligada à cadeia de suprimentos global, mas não é a forma mais eficaz de esclarecer a origem do luxo (3). \\\n",
        "C3 (Fidelidade de Clientes): Pouco relevante para a percepção ou fidelidade do cliente de luxo (2). \\\n",
        "C4 (Ticket Médio): Pode impactar custos e preços, mas não diretamente a percepção de valor que justifica o ticket alto (3). \\\n",
        "C5 (Alta-Costura): Não tem relação direta com a qualidade ou os padrões de produção (1). \\\n",
        "\n",
        "\\\n",
        "\n",
        "Alternativa 06: Publicização de Fornecedores Legítimos\n",
        "\n",
        "C1 (Exclusividade): Risco de diluir a percepção de exclusividade se não for extremamente bem gerenciado; pode dar a impressão de \"produção em massa\" (2). \\\n",
        "C2 (Esclarecimento de Fornecimento): Aumenta a transparência sobre a cadeia de suprimentos (4). \\\n",
        "C3 (Fidelidade de Clientes): Pode gerar mais dúvidas do que respostas para o cliente médio, que valoriza a marca e não a lista de fornecedores (2). \\\n",
        "C4 (Ticket Médio): Não justifica o preço diretamente; pode até levantamento de questionamentos sobre o custo real (2). \\\n",
        "C5 (Alta-Costura): Pode evidenciar alguns aspectos da produção, mas também pode levar a questionamentos sobre a localização da \"verdadeira\" alta costura (2). \\\n",
        "\n",
        "Visualize em planilha junto com a tabela de critérios [clicando aqui](https://docs.google.com/spreadsheets/d/1G3GfaPYRF8Xeg-1MepZNf5ii_psli0eH4rwK9fKFmt8/edit?usp=sharing)."
      ],
      "metadata": {
        "id": "qaa9V52A82I4"
      }
    },
    {
      "cell_type": "markdown",
      "source": [
        "Conforme disponibilizado no Github do Prof. Valdecy Pereira, foi utilizada a Demo Colab para Electre IV da biblioteca pyDecision."
      ],
      "metadata": {
        "id": "gl3LZNjWGNKn"
      }
    },
    {
      "cell_type": "code",
      "execution_count": null,
      "metadata": {
        "id": "irj9LbntUUhS"
      },
      "outputs": [],
      "source": [
        "!pip install pyDecision"
      ]
    },
    {
      "cell_type": "code",
      "source": [
        "# Required Libraries\n",
        "import numpy as np\n",
        "\n",
        "from pyDecision.algorithm import electre_iv"
      ],
      "metadata": {
        "id": "IzFg7zIuUy96"
      },
      "execution_count": null,
      "outputs": []
    },
    {
      "cell_type": "code",
      "source": [
        "# ELECTRE IV\n",
        "\n",
        "# Critérios:\n",
        "# C1: Manter exclusividade dos produtos e bens de luxo fornecidos pelo grupo\n",
        "# C2: Esclarecimento global sobre fornecimento e ligações com a Ásia\n",
        "# C3: Fidelidade dos clientes\n",
        "# C4: Manter ticket médio atual dos produtos\n",
        "# C5: Manter padrões de alta-costura\n",
        "\n",
        "# Parâmetros\n",
        "Q = [0.5, 0.8, 0.7, 0.6, 0.5]\n",
        "P = [1.5, 1.8, 1.7, 1.6, 1.5]\n",
        "V = [2.0, 1.5, 1.8, 2.0, 1.8]\n",
        "\n",
        "# Dataset\n",
        "dataset = np.array([\n",
        "                [3, 5, 3, 3, 3],  # A1: Pronunciamento Público\n",
        "                [4, 2, 5, 4, 3],  # A2: Tomada de Decisão para Fidelidade\n",
        "                [5, 3, 4, 5, 4],  # A3: Revisão da Estratégia de Posicionamento\n",
        "                [2, 2, 3, 5, 2],  # A4: Controle Financeiro e Gestão de Crise\n",
        "                [1, 3, 2, 3, 1],  # A5: Posicionamento sobre Tarifas Internacionais\n",
        "                [2, 4, 2, 2, 2]   # A6: Publicização de Fornecedores Legítimos\n",
        "                ])"
      ],
      "metadata": {
        "id": "wlUM8RRZUbFC"
      },
      "execution_count": null,
      "outputs": []
    },
    {
      "cell_type": "code",
      "source": [
        "# Chamada da Função: Electre IV - Gerando um gráfico de dominância de uma decisão sob a outra\n",
        "credibility, rank_D, rank_A, rank_N, rank_P = electre_iv(dataset, P = P, Q = Q, V = V, graph = True)"
      ],
      "metadata": {
        "colab": {
          "base_uri": "https://localhost:8080/",
          "height": 424
        },
        "id": "FPJcX9UNUkwD",
        "outputId": "bf4d32e2-1f09-4d7b-8b00-09250915fe87"
      },
      "execution_count": null,
      "outputs": [
        {
          "output_type": "display_data",
          "data": {
            "text/plain": [
              "<Figure size 640x480 with 1 Axes>"
            ],
            "image/png": "[encoded data removed]"
          },
          "metadata": {}
        }
      ]
    },
    {
      "cell_type": "markdown",
      "source": [
        "Desta forma, visualizamos que as alternativas em maior predominância são a Alternativa 01 e a Alternativa 03 - O pronunciamento público e a revisão da estratégia de posicionamento."
      ],
      "metadata": {
        "id": "mNjHRK4Z9X6B"
      }
    },
    {
      "cell_type": "code",
      "source": [
        "# Matriz de Credibilidade\n",
        "np.ndarray.round(credibility, decimals = 3)"
      ],
      "metadata": {
        "colab": {
          "base_uri": "https://localhost:8080/"
        },
        "id": "i09Hwp2AUojy",
        "outputId": "00d9c70b-abc2-42c4-bf6e-e16cf283bdc3"
      },
      "execution_count": null,
      "outputs": [
        {
          "output_type": "execute_result",
          "data": {
            "text/plain": [
              "array([[0. , 0. , 0. , 0. , 1. , 1. ],\n",
              "       [0. , 0. , 0.4, 0.8, 0.8, 0.2],\n",
              "       [0. , 0.8, 0. , 1. , 1. , 0.6],\n",
              "       [0. , 0. , 0. , 0. , 0.8, 0. ],\n",
              "       [0. , 0. , 0. , 0. , 0. , 0.4],\n",
              "       [0.4, 0. , 0. , 0. , 0.8, 0. ]])"
            ]
          },
          "metadata": {},
          "execution_count": 21
        }
      ]
    },
    {
      "cell_type": "code",
      "source": [
        "# Ranking Descendente\n",
        "for i in range(0, len(rank_D)):\n",
        "  print(str(i+1), rank_D[i])"
      ],
      "metadata": {
        "colab": {
          "base_uri": "https://localhost:8080/"
        },
        "id": "GmIsB6zjUqva",
        "outputId": "8f1b1118-d6d0-45c2-94b7-9c29277871a6"
      },
      "execution_count": null,
      "outputs": [
        {
          "output_type": "stream",
          "name": "stdout",
          "text": [
            "1 a1; a3\n",
            "2 a2\n",
            "3 a4; a6\n",
            "4 a5\n"
          ]
        }
      ]
    },
    {
      "cell_type": "code",
      "source": [
        "# Ranking Ascendente\n",
        "for i in range(0, len(rank_A)):\n",
        "  print(str(i+1), rank_A[i])"
      ],
      "metadata": {
        "colab": {
          "base_uri": "https://localhost:8080/"
        },
        "id": "ij3nQEiqUteE",
        "outputId": "008e2265-5b36-478f-9cf2-f1d5ade07201"
      },
      "execution_count": null,
      "outputs": [
        {
          "output_type": "stream",
          "name": "stdout",
          "text": [
            "1 a1; a3\n",
            "2 a2\n",
            "3 a4; a6\n",
            "4 a5\n"
          ]
        }
      ]
    },
    {
      "cell_type": "markdown",
      "source": [
        "Os rankings ascendentes e descendentes são iguais pois o método encontrou um ranking linear das alternativas."
      ],
      "metadata": {
        "id": "LP6A49if-FGZ"
      }
    },
    {
      "cell_type": "code",
      "source": [
        "# Rank - Partial\n",
        "for i in range(0, len(rank_P)):\n",
        "  print('a'+str(i+1), rank_P[i])"
      ],
      "metadata": {
        "colab": {
          "base_uri": "https://localhost:8080/"
        },
        "id": "O4JACLqMUvdT",
        "outputId": "46d09637-4eb3-4489-ea7d-110b9ceb1b9f"
      },
      "execution_count": null,
      "outputs": [
        {
          "output_type": "stream",
          "name": "stdout",
          "text": [
            "a1 ['-' 'P+' 'I' 'P+' 'P+' 'P+']\n",
            "a2 ['P-' '-' 'P-' 'P+' 'P+' 'P+']\n",
            "a3 ['I' 'P+' '-' 'P+' 'P+' 'P+']\n",
            "a4 ['P-' 'P-' 'P-' '-' 'P+' 'I']\n",
            "a5 ['P-' 'P-' 'P-' 'P-' '-' 'P-']\n",
            "a6 ['P-' 'P-' 'P-' 'I' 'P+' '-']\n"
          ]
        }
      ]
    },
    {
      "cell_type": "markdown",
      "source": [
        "Experimentando o método Electre IV, foi encontrado um software desenvolvido pelo Prof. Valdecy Pereira e pela Prof. Lívia Nepomuceno para realizar o método de forma orgânica. O J-Electre-IV 3.0 apresenta uma interface em planilha com opções visíveis para a realização da análise.\n",
        "\n",
        "Para utilizá-lo escolher o método, inserir os valores na estrutura de matriz gerada e clicar em Solve para visualizar os resultados.\n",
        "\n",
        "<a href=\"https://freeimage.host/i/3LFyzLx\"><img src=\"https://iili.io/3LFyzLx.md.png\" alt=\"3LFyzLx.md.png\" border=\"0\"></a>\n",
        "\n",
        "Ao clicar em \"Graph\", ele redireciona ao navegador para uma extensão HTML no navegador que apresenta os gráficos plotados e rankings de forma visual. \\\n",
        "\n",
        "\n",
        "Gráfico de alternativas ascendente: \\\n",
        "<a href=\"https://freeimage.host/i/3LK2EUQ\"><img src=\"https://iili.io/3LK2EUQ.md.jpg\" alt=\"3LK2EUQ.md.jpg\" border=\"0\"></a>\n",
        "\n",
        "Gráfico de alternativas descendente: \\\n",
        "<a href=\"https://freeimage.host/i/3LKqGN2\"><img src=\"https://iili.io/3LKqGN2.md.jpg\" alt=\"3LKqGN2.md.jpg\" border=\"0\"></a>\n",
        "\n",
        "E abaixo o gráfico conforme a dominância das alternativas: \\\n",
        "\n",
        "<a href=\"https://freeimage.host/i/3LqOQkP\"><img src=\"https://iili.io/3LqOQkP.md.png\" alt=\"3LqOQkP.md.png\" border=\"0\"></a>\n",
        "\n",
        "\n"
      ],
      "metadata": {
        "id": "sxHLQXhJ-PAQ"
      }
    },
    {
      "cell_type": "markdown",
      "source": [
        "### Conclusão\n",
        "\n",
        "Foi observado através do método Electre IV, escolhido através da observação dos critérios que não são sobressalentes entre eles, que as alternativas mais relevantes para tomar uma decisão mais urgente são as que se referem ao Grupo LVMH se posicionar publicamente e fazer uma revisão da sua estratégia de posicionamento.\n",
        "\n",
        "As alternativas relacionadas a fidelidade dos clientes, controle financeiro, gestão de crise e publicização de fornecedores legítimos, são decisões intermediárias que estarão ocorrendo no sistema interno do LVMH.\n",
        "\n",
        "A decisão sobre o posicionamento de tarifas Internacionais torna-se a menos relevante, talvez devido ao cenário político assim como não conter em matéria dentro dos vídeos dos fabricantes chineses ou um posicionamento formal da China sobre tarifas e mercado de luxo, é parte do ambiente sociopolítico, mas não configura elemento central."
      ],
      "metadata": {
        "id": "RqaWPYl5Ge0f"
      }
    },
    {
      "cell_type": "markdown",
      "source": [
        "### Referências\n",
        "\n",
        "CARVALHO, Victor Diogho Heuer de. Análise de Decisão: Oficina 6 – Estruturação de Problemas Decisórios. Universidade Federal de Alagoas, Campus do Sertão, 2025. Acesso em: 20 maio 2025.\n",
        "\n",
        "LVMH. Organograma + Equipe Executiva. The Official Board, 18 abr. 2025. Disponível em: https://www.theofficialboard.com.br/organograma/lvmh. Acesso em: 20 maio 2025.\n",
        "\n",
        "MARQUES, Júlia; ESTEVÃO, Ilca Maria. Chineses expõem a possível realidade por trás das bolsas de luxo. Metrópoles, 16 abr. 2025. Disponível em: https://www.metropoles.com/colunas/ilca-maria-estevao/chineses-expoem-a-possivel-realidade-por-tras-das-bolsas-de-luxo. Acesso em: 20 maio 2025.\n",
        "\n",
        "MERCADO&CONSUMO. Mercado de luxo movimentou 1,48 trilhão de euros em 2024. Mercado&Consumo, 4 mar. 2025. Disponível em: https://mercadoeconsumo.com.br/04/03/2025/destaque-do-dia/mercado-de-luxo-movimentou-148-trilhao-de-euros-em-2024/?cn-reloaded=1. Acesso em: 20 maio 2025.\n",
        "\n",
        "OLIVEIRA, Chames. Alta-costura: o que é, quem faz e tudo que você precisa saber. ELLE Brasil, 22 jan. 2024. Disponível em: https://elle.com.br/moda/alta-costura-o-que-e?srsltid=AfmBOoqmMHaewS5fDlGNIQC_o3MTt4ru8cwDCxhIyF80-O7LKSyXIBMs Acesso em: 20 maio 2025.\n",
        "\n",
        "PEREIRA, Valdecy; NEPOMUCENO, Livia Dias de Oliveira. J-Electre-v3.0: An ELECTRE I, I_s, I_v, II, III, IV, TRI and TRI ME software. Versão com representação gráfica. 2021. Disponível em: https://sourceforge.net/projects/j-electre/files/. Acesso em: 20 maio 2025."
      ],
      "metadata": {
        "id": "0BFW9JJHANaQ"
      }
    }
  ]
}